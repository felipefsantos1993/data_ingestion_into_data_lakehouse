{
 "cells": [
  {
   "cell_type": "code",
   "execution_count": null,
   "id": "7a5566f3",
   "metadata": {},
   "outputs": [],
   "source": [
    "from pyspark.sql import SparkSession\n",
    "\n",
    "spark = SparkSession.builder \\\n",
    "    .appName(\"Iniciando com Spark\") \\\n",
    "    .getOrCreate()"
   ]
  },
  {
   "cell_type": "code",
   "execution_count": null,
   "id": "6f908fb3",
   "metadata": {},
   "outputs": [],
   "source": [
    "df = spark.read.format('csv') \\\n",
    "    .option(\"header\",\"true\") \\\n",
    "    .option(\"delimiter\",\";\") \\\n",
    "    .load(\"/Users/felip/OneDrive/Documentos/GitHub/data_ingestion_into_data_lakehouse/data/cliente.csv\")"
   ]
  },
  {
   "cell_type": "markdown",
   "id": "2342a18b",
   "metadata": {},
   "source": [
    "# Databricks"
   ]
  },
  {
   "cell_type": "code",
   "execution_count": null,
   "id": "a864671d",
   "metadata": {},
   "outputs": [],
   "source": [
    "from pyspark.sql.functions import col, when, lit, upper, current_timestamp"
   ]
  },
  {
   "cell_type": "code",
   "execution_count": null,
   "id": "ca68e9c8",
   "metadata": {},
   "outputs": [],
   "source": [
    "dbutils.widgets.text(\"path_name\", \"\")\n",
    "path = dbutils.widgets.get(\"path_name\")"
   ]
  },
  {
   "cell_type": "code",
   "execution_count": null,
   "id": "8a8004a9",
   "metadata": {},
   "outputs": [],
   "source": [
    "dbutils.widgets.text(\"bronze_table_name\", \"\")\n",
    "bronze = dbutils.widgets.get(\"bronze_table_name\")"
   ]
  },
  {
   "cell_type": "code",
   "execution_count": null,
   "id": "d47a7c96",
   "metadata": {},
   "outputs": [],
   "source": [
    "input_path = f'/mnt/containerName/folderName/{path}'\n",
    "df_bronze = spark.read.parquet(input_path)"
   ]
  },
  {
   "cell_type": "code",
   "execution_count": null,
   "id": "1c55b8e0",
   "metadata": {},
   "outputs": [],
   "source": [
    "df_bronze \\\n",
    "  .write \\\n",
    "  .format('delta') \\\n",
    "  .mode('overwrite') \\\n",
    "  .option(\"overwriteSchema\", \"true\") \\\n",
    "  .saveAsTable(f'catalogName.schemaName.{bronze}')"
   ]
  }
 ],
 "metadata": {
  "kernelspec": {
   "display_name": "Python 3",
   "language": "python",
   "name": "python3"
  },
  "language_info": {
   "codemirror_mode": {
    "name": "ipython",
    "version": 3
   },
   "file_extension": ".py",
   "mimetype": "text/x-python",
   "name": "python",
   "nbconvert_exporter": "python",
   "pygments_lexer": "ipython3",
   "version": "3.12.8"
  }
 },
 "nbformat": 4,
 "nbformat_minor": 5
}
