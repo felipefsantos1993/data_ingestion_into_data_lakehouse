{
 "cells": [
  {
   "cell_type": "code",
   "execution_count": null,
   "id": "69ff89b0",
   "metadata": {},
   "outputs": [],
   "source": [
    "from pyspark.sql.functions import col, when, lit, upper, current_timestamp"
   ]
  },
  {
   "cell_type": "code",
   "execution_count": null,
   "id": "acdaff77",
   "metadata": {},
   "outputs": [],
   "source": [
    "dbutils.widgets.text(\"nome_tabela\", \"\")\n",
    "nome_tabela = dbutils.widgets.get(\"nome_tabela\")"
   ]
  },
  {
   "cell_type": "code",
   "execution_count": null,
   "id": "be140a51",
   "metadata": {},
   "outputs": [],
   "source": [
    "dbutils.widgets.text(\"nome_tabela_raw\", \"\")\n",
    "nome_tabela_raw = dbutils.widgets.get(\"nome_tabela_raw\")"
   ]
  },
  {
   "cell_type": "code",
   "execution_count": null,
   "id": "d1ee1daa",
   "metadata": {},
   "outputs": [],
   "source": [
    "staging_df = spark.table(f\"catalogName.schemaName.{nome_tabela}\")"
   ]
  },
  {
   "cell_type": "code",
   "execution_count": null,
   "id": "6da486d5",
   "metadata": {},
   "outputs": [],
   "source": [
    "columns = staging_df.dtypes"
   ]
  },
  {
   "cell_type": "code",
   "execution_count": null,
   "id": "36e25a59",
   "metadata": {},
   "outputs": [],
   "source": [
    "create_table_query = f\"\"\"\n",
    "CREATE TABLE IF NOT EXISTS catalogName.schemaName.{nome_tabela_raw} (\n",
    "    {', '.join([f'{col[0]} {col[1]}' for col in columns])}\n",
    ")\n",
    "\"\"\"\n",
    "spark.sql(create_table_query)"
   ]
  },
  {
   "cell_type": "code",
   "execution_count": null,
   "id": "8f6f8685",
   "metadata": {},
   "outputs": [],
   "source": [
    "#MERGE"
   ]
  },
  {
   "cell_type": "code",
   "execution_count": null,
   "id": "7a5bdc93",
   "metadata": {},
   "outputs": [],
   "source": [
    "insert_query = f\"\"\"\n",
    "INSERT INTO catalogName.schemaName.{nome_tabela_raw}\n",
    "SELECT {', '.join(column_names)}\n",
    "FROM catalogName.schemaName.{nome_tabela}\n",
    "\"\"\"\n",
    "spark.sql(insert_query)"
   ]
  }
 ],
 "metadata": {
  "language_info": {
   "name": "python"
  }
 },
 "nbformat": 4,
 "nbformat_minor": 5
}
